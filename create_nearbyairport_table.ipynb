{
 "cells": [
  {
   "cell_type": "code",
   "execution_count": 2,
   "id": "c87900b3-1482-414f-9c57-eb17a3a809d6",
   "metadata": {
    "editable": true,
    "slideshow": {
     "slide_type": ""
    },
    "tags": []
   },
   "outputs": [],
   "source": [
    "from dotenv import load_dotenv\n",
    "from my_module.MySQL_instance import *\n",
    "from my_module.scraping_fun import get_NearbyAirports"
   ]
  },
  {
   "cell_type": "code",
   "execution_count": 3,
   "id": "bfec18a6-a8ff-475b-9990-ddcc2ef0c17d",
   "metadata": {
    "editable": true,
    "slideshow": {
     "slide_type": ""
    },
    "tags": []
   },
   "outputs": [],
   "source": [
    "# Load environment variables from .env file\n",
    "load_dotenv(\"secret_keys.env\")\n",
    "connection_string = get_MySQL_instance()"
   ]
  },
  {
   "cell_type": "code",
   "execution_count": 5,
   "id": "7d6208e3-d010-428f-8203-a09e8cb70764",
   "metadata": {
    "editable": true,
    "slideshow": {
     "slide_type": ""
    },
    "tags": []
   },
   "outputs": [
    {
     "data": {
      "text/plain": [
       "'DataFrame sent to the MySQL table \"nearbyairport\"!'"
      ]
     },
     "execution_count": 5,
     "metadata": {},
     "output_type": "execute_result"
    }
   ],
   "source": [
    "query = '''\n",
    "    SELECT CityId, Latitude, Longitude\n",
    "    FROM city\n",
    "    LEFT JOIN geolocation USING(CityID)\n",
    "    ORDER BY RAND(6)\n",
    "    LIMIT 5;\n",
    "    '''\n",
    "city_from_MySQL = from_MySQL(connection_string, query)\n",
    "NearbyAirport_df = get_NearbyAirports(city_from_MySQL)\n",
    "NearbyAirport_df\n",
    "to_MySQL(NearbyAirport_df, connection_string, 'nearbyairport')"
   ]
  }
 ],
 "metadata": {
  "kernelspec": {
   "display_name": "Python 3 (ipykernel)",
   "language": "python",
   "name": "python3"
  },
  "language_info": {
   "codemirror_mode": {
    "name": "ipython",
    "version": 3
   },
   "file_extension": ".py",
   "mimetype": "text/x-python",
   "name": "python",
   "nbconvert_exporter": "python",
   "pygments_lexer": "ipython3",
   "version": "3.12.7"
  }
 },
 "nbformat": 4,
 "nbformat_minor": 5
}
