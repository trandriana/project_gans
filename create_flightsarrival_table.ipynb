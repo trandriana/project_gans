{
 "cells": [
  {
   "cell_type": "code",
   "execution_count": 1,
   "id": "d7703faa-e4cd-4956-83dc-7a8d0b4a0c1d",
   "metadata": {
    "editable": true,
    "slideshow": {
     "slide_type": ""
    },
    "tags": []
   },
   "outputs": [],
   "source": [
    "from dotenv import load_dotenv\n",
    "from my_module.MySQL_instance import *\n",
    "from my_module.scraping_fun import get_FlightArrivals"
   ]
  },
  {
   "cell_type": "code",
   "execution_count": 3,
   "id": "2bd99a47-3ba4-4388-ace1-f91f9d4cf7cc",
   "metadata": {
    "editable": true,
    "slideshow": {
     "slide_type": ""
    },
    "tags": []
   },
   "outputs": [],
   "source": [
    "# Load environment variables from .env file\n",
    "load_dotenv(\"secret_keys.env\")\n",
    "connection_string = get_MySQL_instance()"
   ]
  },
  {
   "cell_type": "code",
   "execution_count": 4,
   "id": "ccea3025-f21e-4d69-8b8a-0eaa054ea763",
   "metadata": {},
   "outputs": [
    {
     "name": "stdout",
     "output_type": "stream",
     "text": [
      "IATA = BER, response status_code = 200\n",
      "IATA = TXL, response status_code = 204\n",
      "IATA = EBU, response status_code = 204\n",
      "IATA = LYS, response status_code = 200\n",
      "IATA = VIE, response status_code = 200\n",
      "IATA = DUB, response status_code = 200\n",
      "IATA = BCN, response status_code = 200\n"
     ]
    },
    {
     "data": {
      "text/plain": [
       "'DataFrame sent to the MySQL table \"flightarrivals\"!'"
      ]
     },
     "execution_count": 4,
     "metadata": {},
     "output_type": "execute_result"
    }
   ],
   "source": [
    "query = '''\n",
    "    SELECT IATA\n",
    "    FROM NearbyAirport;\n",
    "    '''\n",
    "airport_from_MySQL = from_MySQL(connection_string, query)\n",
    "FlightArrivals_df= get_FlightArrivals(airport_from_MySQL)\n",
    "to_MySQL(FlightArrivals_df, connection_string, 'flightarrivals')"
   ]
  }
 ],
 "metadata": {
  "kernelspec": {
   "display_name": "Python 3 (ipykernel)",
   "language": "python",
   "name": "python3"
  },
  "language_info": {
   "codemirror_mode": {
    "name": "ipython",
    "version": 3
   },
   "file_extension": ".py",
   "mimetype": "text/x-python",
   "name": "python",
   "nbconvert_exporter": "python",
   "pygments_lexer": "ipython3",
   "version": "3.12.7"
  }
 },
 "nbformat": 4,
 "nbformat_minor": 5
}
