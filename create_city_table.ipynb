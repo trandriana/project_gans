{
 "cells": [
  {
   "cell_type": "code",
   "execution_count": 1,
   "id": "37bf6658-3ff7-40a2-9a50-e13f4fa612bf",
   "metadata": {},
   "outputs": [
    {
     "data": {
      "text/plain": [
       "True"
      ]
     },
     "execution_count": 1,
     "metadata": {},
     "output_type": "execute_result"
    }
   ],
   "source": [
    "from dotenv import load_dotenv\n",
    "from my_module.MySQL_instance import *\n",
    "from my_module.collect import city_info\n",
    "load_dotenv(\"secret_keys.env\")"
   ]
  },
  {
   "cell_type": "code",
   "execution_count": 2,
   "id": "b1027480-3b38-4644-8455-65a04fe33f2b",
   "metadata": {},
   "outputs": [],
   "source": [
    "connection_string = get_MySQL_instance() "
   ]
  },
  {
   "cell_type": "markdown",
   "id": "1b2f21e7-9a7a-40c3-b86e-56f868219b00",
   "metadata": {},
   "source": [
    "## Create the MySQL table `city`"
   ]
  },
  {
   "cell_type": "code",
   "execution_count": 3,
   "id": "9131f921-50d8-4cb6-acd9-5f4fb4bc4577",
   "metadata": {},
   "outputs": [
    {
     "data": {
      "text/plain": [
       "'DataFrame sent to the MySQL table \"city\"!'"
      ]
     },
     "execution_count": 3,
     "metadata": {},
     "output_type": "execute_result"
    }
   ],
   "source": [
    "city_list = ['St._Wolfgang_im_Salzkammergut', 'Berlin', 'Leoben', 'Port_Louis', 'Ottawa', 'Lyon', 'Vienna', 'Brazilia', 'Dublin', 'Barcelona', 'Mexico City', 'Pretoria', 'Seoul', 'Tokyo', 'Paris', 'New_York_City', 'Oerlinghausen']\n",
    "city_df = city_info(city_list)\n",
    "to_MySQL(city_df['CityName'], connection_string, 'city')"
   ]
  },
  {
   "cell_type": "markdown",
   "id": "2e0d75c4-0337-4bb8-a710-4eefc5c19f9e",
   "metadata": {},
   "source": [
    "## Create the MySQL table `country`"
   ]
  },
  {
   "cell_type": "code",
   "execution_count": 4,
   "id": "479db9d6-d043-48f7-af67-1b39f51bd836",
   "metadata": {},
   "outputs": [
    {
     "data": {
      "text/plain": [
       "'DataFrame sent to the MySQL table \"country\"!'"
      ]
     },
     "execution_count": 4,
     "metadata": {},
     "output_type": "execute_result"
    }
   ],
   "source": [
    "query = '''\n",
    "SELECT *\n",
    "FROM city;\n",
    "'''\n",
    "city_from_MySQL = from_MySQL(connection_string, query)\n",
    "country_df = city_from_MySQL.merge(city_df, on = 'CityName', how = 'left')\n",
    "country_df.drop(columns = ['CityName', 'Latitude', 'Longitude', 'YearDataRetrieved', 'Population'], inplace = True)\n",
    "to_MySQL(country_df, connection_string, 'country')"
   ]
  },
  {
   "cell_type": "markdown",
   "id": "6aa56b7a-ef74-4c1b-97bb-77cbb478a79f",
   "metadata": {},
   "source": [
    "## Create the MySQL table `geolocation`"
   ]
  },
  {
   "cell_type": "code",
   "execution_count": 5,
   "id": "27ea11f5-e9ae-44d5-8984-d1918e120046",
   "metadata": {},
   "outputs": [
    {
     "data": {
      "text/plain": [
       "'DataFrame sent to the MySQL table \"geolocation\"!'"
      ]
     },
     "execution_count": 5,
     "metadata": {},
     "output_type": "execute_result"
    }
   ],
   "source": [
    "geolocation_df = city_from_MySQL.merge(city_df, on = 'CityName', how = 'left')\n",
    "geolocation_df.drop(columns = ['CityName', 'CountryName', 'YearDataRetrieved', 'Population'], inplace = True)\n",
    "to_MySQL(geolocation_df, connection_string, 'geolocation')"
   ]
  },
  {
   "cell_type": "markdown",
   "id": "3d835309-3ed9-4763-9269-2c630478a4b7",
   "metadata": {},
   "source": [
    "## Create the MySQL table `population`"
   ]
  },
  {
   "cell_type": "code",
   "execution_count": 6,
   "id": "5c89b545-b796-4be6-a150-6ce74fdbcd68",
   "metadata": {},
   "outputs": [
    {
     "data": {
      "text/plain": [
       "'DataFrame sent to the MySQL table \"population\"!'"
      ]
     },
     "execution_count": 6,
     "metadata": {},
     "output_type": "execute_result"
    }
   ],
   "source": [
    "population_df = city_from_MySQL.merge(city_df, on = 'CityName', how = 'left')\n",
    "population_df.drop(columns = ['CityName', 'CountryName', 'CountryName', 'Latitude', 'Longitude'], inplace = True)\n",
    "to_MySQL(population_df, connection_string, 'population')"
   ]
  }
 ],
 "metadata": {
  "kernelspec": {
   "display_name": "Python 3 (ipykernel)",
   "language": "python",
   "name": "python3"
  },
  "language_info": {
   "codemirror_mode": {
    "name": "ipython",
    "version": 3
   },
   "file_extension": ".py",
   "mimetype": "text/x-python",
   "name": "python",
   "nbconvert_exporter": "python",
   "pygments_lexer": "ipython3",
   "version": "3.12.7"
  }
 },
 "nbformat": 4,
 "nbformat_minor": 5
}
