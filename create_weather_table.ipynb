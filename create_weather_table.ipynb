{
 "cells": [
  {
   "cell_type": "code",
   "execution_count": 1,
   "id": "1ddf534a-79f7-49dd-942c-31f2a72f7515",
   "metadata": {
    "editable": true,
    "slideshow": {
     "slide_type": ""
    },
    "tags": []
   },
   "outputs": [
    {
     "data": {
      "text/plain": [
       "True"
      ]
     },
     "execution_count": 1,
     "metadata": {},
     "output_type": "execute_result"
    }
   ],
   "source": [
    "from dotenv import load_dotenv\n",
    "from my_module.MySQL_instance import *\n",
    "from my_module.collect import weather_forcast\n",
    "load_dotenv(\"secret_keys.env\")"
   ]
  },
  {
   "cell_type": "code",
   "execution_count": 2,
   "id": "a2c3fc82-cfe0-4ac5-9a0b-f2f5d1f90e28",
   "metadata": {},
   "outputs": [],
   "source": [
    "connection_string = get_MySQL_instance() "
   ]
  },
  {
   "cell_type": "code",
   "execution_count": 3,
   "id": "6a7ae80a-0f4a-448a-b2aa-4248f8060967",
   "metadata": {},
   "outputs": [
    {
     "data": {
      "text/plain": [
       "'DataFrame sent to the MySQL table \"weather\"!'"
      ]
     },
     "execution_count": 3,
     "metadata": {},
     "output_type": "execute_result"
    }
   ],
   "source": [
    "query = '''\n",
    "SELECT CityId, CityName, Latitude, Longitude\n",
    "FROM city\n",
    "LEFT JOIN country USING(CityID)\n",
    "LEFT JOIN geolocation USING(CityID)\n",
    "LEFT JOIN population USING(CityID);\n",
    "'''\n",
    "city_from_MySQL = from_MySQL(connection_string, query)\n",
    "weather_df = weather_forcast(city_from_MySQL)\n",
    "to_MySQL(weather_df, connection_string, 'weather')"
   ]
  }
 ],
 "metadata": {
  "kernelspec": {
   "display_name": "Python 3 (ipykernel)",
   "language": "python",
   "name": "python3"
  },
  "language_info": {
   "codemirror_mode": {
    "name": "ipython",
    "version": 3
   },
   "file_extension": ".py",
   "mimetype": "text/x-python",
   "name": "python",
   "nbconvert_exporter": "python",
   "pygments_lexer": "ipython3",
   "version": "3.12.7"
  }
 },
 "nbformat": 4,
 "nbformat_minor": 5
}
